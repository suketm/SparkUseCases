{
 "cells": [
  {
   "cell_type": "markdown",
   "metadata": {},
   "source": [
    "## Advertising Agency Churn"
   ]
  },
  {
   "cell_type": "markdown",
   "metadata": {
    "collapsed": true
   },
   "source": [
    "\n",
    "A marketing agency has many customers that use their service to produce ads for the client/customer websites. They've noticed that they have quite a bit of churn in clients. \n",
    "Create a classification algorithm that will help classify whether or not a customer churned."
   ]
  },
  {
   "cell_type": "markdown",
   "metadata": {},
   "source": [
    "Bookmarks"
   ]
  },
  {
   "cell_type": "code",
   "execution_count": 1,
   "metadata": {},
   "outputs": [],
   "source": [
    "from pyspark.sql import SparkSession"
   ]
  },
  {
   "cell_type": "code",
   "execution_count": 2,
   "metadata": {},
   "outputs": [],
   "source": [
    "spark = SparkSession.builder.appName(\"LogisticRegressionChurn\").getOrCreate()"
   ]
  },
  {
   "cell_type": "code",
   "execution_count": 3,
   "metadata": {},
   "outputs": [],
   "source": [
    "df = spark.read.csv('customer_churn.csv', inferSchema = True, header = True)"
   ]
  },
  {
   "cell_type": "code",
   "execution_count": 4,
   "metadata": {},
   "outputs": [
    {
     "name": "stdout",
     "output_type": "stream",
     "text": [
      "root\n",
      " |-- Names: string (nullable = true)\n",
      " |-- Age: double (nullable = true)\n",
      " |-- Total_Purchase: double (nullable = true)\n",
      " |-- Account_Manager: integer (nullable = true)\n",
      " |-- Years: double (nullable = true)\n",
      " |-- Num_Sites: double (nullable = true)\n",
      " |-- Onboard_date: timestamp (nullable = true)\n",
      " |-- Location: string (nullable = true)\n",
      " |-- Company: string (nullable = true)\n",
      " |-- Churn: integer (nullable = true)\n",
      "\n"
     ]
    }
   ],
   "source": [
    "df.printSchema()"
   ]
  },
  {
   "cell_type": "code",
   "execution_count": 5,
   "metadata": {},
   "outputs": [
    {
     "name": "stdout",
     "output_type": "stream",
     "text": [
      "+----------------+----+--------------+---------------+-----+---------+-------------------+--------------------+--------------------+-----+\n",
      "|           Names| Age|Total_Purchase|Account_Manager|Years|Num_Sites|       Onboard_date|            Location|             Company|Churn|\n",
      "+----------------+----+--------------+---------------+-----+---------+-------------------+--------------------+--------------------+-----+\n",
      "|Cameron Williams|42.0|       11066.8|              0| 7.22|      8.0|2013-08-30 07:00:40|10265 Elizabeth M...|          Harvey LLC|    1|\n",
      "|   Kevin Mueller|41.0|      11916.22|              0|  6.5|     11.0|2013-08-13 00:38:46|6157 Frank Garden...|          Wilson PLC|    1|\n",
      "|     Eric Lozano|38.0|      12884.75|              0| 6.67|     12.0|2016-06-29 06:20:07|1331 Keith Court ...|Miller, Johnson a...|    1|\n",
      "+----------------+----+--------------+---------------+-----+---------+-------------------+--------------------+--------------------+-----+\n",
      "only showing top 3 rows\n",
      "\n"
     ]
    }
   ],
   "source": [
    "df.show(3)"
   ]
  },
  {
   "cell_type": "code",
   "execution_count": 6,
   "metadata": {},
   "outputs": [
    {
     "name": "stdout",
     "output_type": "stream",
     "text": [
      "Row(Names='Cameron Williams', Age=42.0, Total_Purchase=11066.8, Account_Manager=0, Years=7.22, Num_Sites=8.0, Onboard_date=datetime.datetime(2013, 8, 30, 7, 0, 40), Location='10265 Elizabeth Mission Barkerburgh, AK 89518', Company='Harvey LLC', Churn=1) \n",
      "\n",
      "Row(Names='Kevin Mueller', Age=41.0, Total_Purchase=11916.22, Account_Manager=0, Years=6.5, Num_Sites=11.0, Onboard_date=datetime.datetime(2013, 8, 13, 0, 38, 46), Location='6157 Frank Gardens Suite 019 Carloshaven, RI 17756', Company='Wilson PLC', Churn=1) \n",
      "\n",
      "Row(Names='Eric Lozano', Age=38.0, Total_Purchase=12884.75, Account_Manager=0, Years=6.67, Num_Sites=12.0, Onboard_date=datetime.datetime(2016, 6, 29, 6, 20, 7), Location='1331 Keith Court Alyssahaven, DE 90114', Company='Miller, Johnson and Wallace', Churn=1) \n",
      "\n"
     ]
    }
   ],
   "source": [
    "for row in df.head(3):\n",
    "    print (row,'\\n')"
   ]
  },
  {
   "cell_type": "code",
   "execution_count": 7,
   "metadata": {},
   "outputs": [],
   "source": [
    "# Feature Analysis\n",
    "# df.columns: 'Age', 'Total_Purchase', 'Account_Manager', 'Years', 'Num_Sites'"
   ]
  },
  {
   "cell_type": "code",
   "execution_count": 8,
   "metadata": {},
   "outputs": [],
   "source": [
    "from pyspark.sql import functions as F\n",
    "import matplotlib.pyplot as plt"
   ]
  },
  {
   "cell_type": "code",
   "execution_count": 9,
   "metadata": {},
   "outputs": [
    {
     "name": "stdout",
     "output_type": "stream",
     "text": [
      "root\n",
      " |-- Age: double (nullable = true)\n",
      "\n"
     ]
    },
    {
     "data": {
      "image/png": "[encoded data removed]",
      "text/plain": [
       "<Figure size 432x288 with 1 Axes>"
      ]
     },
     "metadata": {
      "needs_background": "light"
     },
     "output_type": "display_data"
    }
   ],
   "source": [
    "# Age\n",
    "\n",
    "df.select('Age').printSchema()\n",
    "age_Vect = df.select('Age').collect()\n",
    "\n",
    "temp_age_Vect = age_Vect[0:1000]\n",
    "temp_age_Vect = [t[0] for t in temp_age_Vect]\n",
    "plt.title('Age Distribution')\n",
    "plt.hist(temp_age_Vect)\n",
    "plt.xlabel('Age')\n",
    "plt.ylabel('# of users')\n",
    "plt.show()\n",
    "# Feature Engineering: Age - normalization"
   ]
  },
  {
   "cell_type": "code",
   "execution_count": 10,
   "metadata": {},
   "outputs": [
    {
     "name": "stdout",
     "output_type": "stream",
     "text": [
      "+--------------+\n",
      "|Total_Purchase|\n",
      "+--------------+\n",
      "|       11066.8|\n",
      "|      11916.22|\n",
      "|      12884.75|\n",
      "+--------------+\n",
      "only showing top 3 rows\n",
      "\n",
      "root\n",
      " |-- Total_Purchase: double (nullable = true)\n",
      "\n"
     ]
    },
    {
     "data": {
      "image/png": "[encoded data removed]",
      "text/plain": [
       "<Figure size 432x288 with 1 Axes>"
      ]
     },
     "metadata": {
      "needs_background": "light"
     },
     "output_type": "display_data"
    }
   ],
   "source": [
    "# Total_Purchase\n",
    "purchase_Vect = df.select('Total_Purchase')\n",
    "purchase_Vect.show(3)\n",
    "purchase_Vect.printSchema()\n",
    "temp_pruchase_Vect = purchase_Vect.collect()\n",
    "temp_pruchase_Vect = [t[0] for t in temp_pruchase_Vect]\n",
    "plt.title('Purchase Distribution')\n",
    "plt.hist(temp_pruchase_Vect)\n",
    "plt.xlabel('Total Purchase')\n",
    "plt.ylabel('# of users')\n",
    "plt.show()\n",
    "# Feature Engineering: Total_Pruchase - normalization"
   ]
  },
  {
   "cell_type": "code",
   "execution_count": 11,
   "metadata": {},
   "outputs": [
    {
     "name": "stdout",
     "output_type": "stream",
     "text": [
      "root\n",
      " |-- Account_Manager: integer (nullable = true)\n",
      "\n",
      "+---------------+\n",
      "|Account_Manager|\n",
      "+---------------+\n",
      "|              1|\n",
      "|              0|\n",
      "+---------------+\n",
      "\n",
      "+---------------+-----+\n",
      "|Account_Manager|count|\n",
      "+---------------+-----+\n",
      "|              1|  433|\n",
      "|              0|  467|\n",
      "+---------------+-----+\n",
      "\n"
     ]
    }
   ],
   "source": [
    "# Account_Manager\n",
    "acc_mngr_Vect = df.select('Account_Manager')\n",
    "\n",
    "acc_mngr_Vect.printSchema()\n",
    "\n",
    "acc_mngr_Vect.distinct().show()\n",
    "\n",
    "# number of classes : 2\n",
    "acc_mngr_Vect.groupBy('Account_Manager').count().show()\n",
    "\n",
    "# Feature Engineering: Not required"
   ]
  },
  {
   "cell_type": "code",
   "execution_count": 12,
   "metadata": {},
   "outputs": [
    {
     "name": "stdout",
     "output_type": "stream",
     "text": [
      "root\n",
      " |-- Years: double (nullable = true)\n",
      "\n",
      "+-----+\n",
      "|Years|\n",
      "+-----+\n",
      "| 7.22|\n",
      "|  6.5|\n",
      "| 6.67|\n",
      "+-----+\n",
      "only showing top 3 rows\n",
      "\n"
     ]
    },
    {
     "data": {
      "image/png": "[encoded data removed]",
      "text/plain": [
       "<Figure size 432x288 with 1 Axes>"
      ]
     },
     "metadata": {
      "needs_background": "light"
     },
     "output_type": "display_data"
    }
   ],
   "source": [
    "# Years\n",
    "year_Vect = df.select('Years')\n",
    "year_Vect.printSchema()\n",
    "year_Vect.show(3)\n",
    "\n",
    "temp_year_Vect = year_Vect.collect()\n",
    "temp_year_Vect = temp_year_Vect[0:1000]\n",
    "temp_year_Vect = [t[0] for t in temp_year_Vect]\n",
    "plt.title('Years Distribution')\n",
    "plt.hist(temp_year_Vect)\n",
    "plt.xlabel('Years')\n",
    "plt.ylabel('# of users')\n",
    "plt.show()\n",
    "# Feature Engineering: Years - normalization"
   ]
  },
  {
   "cell_type": "code",
   "execution_count": 13,
   "metadata": {
    "scrolled": true
   },
   "outputs": [
    {
     "name": "stdout",
     "output_type": "stream",
     "text": [
      "root\n",
      " |-- Num_Sites: double (nullable = true)\n",
      "\n",
      "+---------+\n",
      "|Num_Sites|\n",
      "+---------+\n",
      "|      8.0|\n",
      "|     11.0|\n",
      "|     12.0|\n",
      "+---------+\n",
      "only showing top 3 rows\n",
      "\n"
     ]
    },
    {
     "data": {
      "image/png": "[encoded data removed]",
      "text/plain": [
       "<Figure size 432x288 with 1 Axes>"
      ]
     },
     "metadata": {
      "needs_background": "light"
     },
     "output_type": "display_data"
    }
   ],
   "source": [
    "# Num_Sites\n",
    "\n",
    "sites_Vect = df.select('Num_Sites')\n",
    "sites_Vect.printSchema()\n",
    "sites_Vect.show(3)\n",
    "\n",
    "temp_sites_Vect = sites_Vect.collect()\n",
    "temp_sites_Vect = temp_sites_Vect[0:1000]\n",
    "temp_sites_Vect = [t[0] for t in temp_sites_Vect]\n",
    "plt.title('Number of Sites Distribution')\n",
    "plt.hist(temp_sites_Vect)\n",
    "plt.xlabel('# of Sites')\n",
    "plt.ylabel('# of Users')\n",
    "plt.show()\n",
    "# Feature Engineering: Years - normalization"
   ]
  },
  {
   "cell_type": "markdown",
   "metadata": {},
   "source": [
    "Machine Learning\n",
    "- <a href=#Libraries>Libraries</a>\n",
    "- <a href=#FeatureEngineering>Feature Engineering</a>\n",
    "- <a href=#MLModel>Machine Learning Model</a>\n",
    "- <a href=#Pipeline>Pipeline</a>\n",
    "- <a href=#DataPrep>Data prep</a>\n",
    "- <a href=#TrainPipeline>Train Pipeline</a>\n",
    "- <a href=#TestPipeline>Test Pipeline\n",
    "- <a href=#ModelEval>Model Evaluation & Improvement\n",
    "- <a href=#NewPred>New Predictions"
   ]
  },
  {
   "cell_type": "markdown",
   "metadata": {},
   "source": [
    "<a name = 'Libraries' />Libraries"
   ]
  },
  {
   "cell_type": "code",
   "execution_count": 14,
   "metadata": {},
   "outputs": [],
   "source": [
    "from pyspark.ml.linalg import Vectors\n",
    "from pyspark.ml.feature import VectorAssembler\n",
    "from pyspark.ml.feature import StandardScaler\n",
    "from pyspark.ml.classification import LogisticRegression\n",
    "from pyspark.ml import Pipeline\n",
    "from pyspark.ml.evaluation import BinaryClassificationEvaluator"
   ]
  },
  {
   "cell_type": "markdown",
   "metadata": {},
   "source": [
    "<a name= 'FeatureEngineering' />Feature Engineering"
   ]
  },
  {
   "cell_type": "code",
   "execution_count": 15,
   "metadata": {},
   "outputs": [],
   "source": [
    "# Feature Engineering\n",
    "# Features: 'Age', 'Total_Purchase', 'Account_Manager', 'Years', 'Num_Sites'\n",
    "\n",
    "# Assembler - 1: to generate Scale Vector\n",
    "assembler_1 = VectorAssembler(\n",
    "    inputCols=['Age', 'Total_Purchase', 'Years', 'Num_Sites'],\n",
    "    outputCol=\"featuresToScale\")\n",
    "\n",
    "# Feature Standardizer: Age, Total_Pruchase, Years, Num_Sites\n",
    "scaler = StandardScaler(inputCol=\"featuresToScale\", outputCol=\"scaledFeatures\",withStd=True)\n",
    "\n",
    "# Assembler - 2: to generate input to the model\n",
    "assembler_2 = VectorAssembler(\n",
    "    inputCols=[\"featuresToScale\", \"Account_Manager\"],\n",
    "    outputCol=\"features\")"
   ]
  },
  {
   "cell_type": "markdown",
   "metadata": {},
   "source": [
    "<a name='MLModel' />Machine Learning Model"
   ]
  },
  {
   "cell_type": "code",
   "execution_count": 16,
   "metadata": {},
   "outputs": [],
   "source": [
    "lr_churn = LogisticRegression(labelCol='Churn')"
   ]
  },
  {
   "cell_type": "markdown",
   "metadata": {},
   "source": [
    "<a name='Pipeline' />Pipeline"
   ]
  },
  {
   "cell_type": "code",
   "execution_count": 17,
   "metadata": {},
   "outputs": [],
   "source": [
    "pipeline = Pipeline(stages = [assembler_1, scaler, assembler_2, lr_churn])"
   ]
  },
  {
   "cell_type": "markdown",
   "metadata": {},
   "source": [
    "<a name='DataPrep'/>Data Prep"
   ]
  },
  {
   "cell_type": "code",
   "execution_count": 18,
   "metadata": {},
   "outputs": [],
   "source": [
    "train, test = df.randomSplit([0.7,0.3])"
   ]
  },
  {
   "cell_type": "markdown",
   "metadata": {},
   "source": [
    "<a name='TrainPipeline' />Train Pipeline"
   ]
  },
  {
   "cell_type": "code",
   "execution_count": 19,
   "metadata": {},
   "outputs": [],
   "source": [
    "model = pipeline.fit(train)"
   ]
  },
  {
   "cell_type": "markdown",
   "metadata": {},
   "source": [
    "<a name='TestPipeline' />Test Pipeline"
   ]
  },
  {
   "cell_type": "code",
   "execution_count": 20,
   "metadata": {},
   "outputs": [],
   "source": [
    "prediction = model.transform(test)"
   ]
  },
  {
   "cell_type": "markdown",
   "metadata": {},
   "source": [
    "<a name = 'ModelEval' />Model Evaluation & Improvement\n",
    "Let's evaluate the results on the data set we were given (using the test data)"
   ]
  },
  {
   "cell_type": "code",
   "execution_count": 21,
   "metadata": {},
   "outputs": [
    {
     "name": "stdout",
     "output_type": "stream",
     "text": [
      "+-------+-------------------+-------------------+\n",
      "|summary|         prediction|              Churn|\n",
      "+-------+-------------------+-------------------+\n",
      "|  count|                606|                606|\n",
      "|   mean|0.14686468646864687|0.17986798679867988|\n",
      "| stddev| 0.3542633910736834| 0.3843947468250369|\n",
      "|    min|                0.0|                0.0|\n",
      "|    max|                1.0|                1.0|\n",
      "+-------+-------------------+-------------------+\n",
      "\n"
     ]
    }
   ],
   "source": [
    "training_sum = model.stages[-1].summary\n",
    "training_sum.predictions.select('prediction','Churn').describe().show()"
   ]
  },
  {
   "cell_type": "code",
   "execution_count": 22,
   "metadata": {},
   "outputs": [
    {
     "name": "stdout",
     "output_type": "stream",
     "text": [
      "+--------------------+-----+--------------------+--------------------+----------+\n",
      "|            features|Churn|       rawPrediction|         probability|prediction|\n",
      "+--------------------+-----+--------------------+--------------------+----------+\n",
      "|[36.0,12309.23,4....|    0|[2.53373311217810...|[0.9264730609348,...|       0.0|\n",
      "|[29.0,9617.59,5.4...|    0|[4.84356653542960...|[0.99218268835105...|       0.0|\n",
      "|[36.0,8918.52,3.6...|    0|[5.72440318027124...|[0.99674532600095...|       0.0|\n",
      "|[39.0,6351.79,5.8...|    1|[6.60618214127997...|[0.99864984140028...|       0.0|\n",
      "|[45.0,10976.03,4....|    0|[1.75971427147582...|[0.85317387110770...|       0.0|\n",
      "|[32.0,12403.6,4.9...|    0|[6.23780849178853...|[0.99804967785656...|       0.0|\n",
      "|[38.0,10298.29,5....|    0|[2.22516702989470...|[0.90248686330055...|       0.0|\n",
      "|[40.0,12455.75,6....|    0|[0.88996477165996...|[0.70888290261990...|       0.0|\n",
      "|[43.0,8601.01,5.6...|    1|[-1.5062554507499...|[0.18149439830457...|       1.0|\n",
      "|[39.0,8880.17,4.0...|    0|[5.24042863397771...|[0.99472993527372...|       0.0|\n",
      "|[37.0,8614.75,5.0...|    0|[3.32297890267951...|[0.96520876416688...|       0.0|\n",
      "|[44.0,10965.95,4....|    0|[3.80047642795827...|[0.97812892348178...|       0.0|\n",
      "|[40.0,8083.76,4.7...|    0|[5.96315868092835...|[0.99743482135415...|       0.0|\n",
      "|[42.0,6406.38,3.0...|    0|[4.50154404341489...|[0.98902982263778...|       0.0|\n",
      "|[48.0,4771.65,3.7...|    1|[-0.3911960227084...|[0.40342941577109...|       1.0|\n",
      "|[45.0,8389.84,6.8...|    0|[5.81035437687032...|[0.99701258335911...|       0.0|\n",
      "|[43.0,9060.28,4.9...|    0|[5.95656501457464...|[0.99741789535469...|       0.0|\n",
      "|[43.0,12691.45,4....|    0|[0.56822717338072...|[0.63835400410827...|       0.0|\n",
      "|[48.0,12810.16,2....|    0|[3.15435580875636...|[0.95908001013344...|       0.0|\n",
      "|[43.0,12068.39,3....|    0|[5.53623882723380...|[0.99607415005055...|       0.0|\n",
      "+--------------------+-----+--------------------+--------------------+----------+\n",
      "only showing top 20 rows\n",
      "\n"
     ]
    }
   ],
   "source": [
    "prediction.select('features','Churn','rawPrediction','probability', 'prediction').show()"
   ]
  },
  {
   "cell_type": "code",
   "execution_count": 23,
   "metadata": {},
   "outputs": [],
   "source": [
    "churn_eval = BinaryClassificationEvaluator(rawPredictionCol='prediction',\n",
    "                                           labelCol='Churn')"
   ]
  },
  {
   "cell_type": "code",
   "execution_count": 24,
   "metadata": {},
   "outputs": [
    {
     "name": "stdout",
     "output_type": "stream",
     "text": [
      "0.78\n"
     ]
    }
   ],
   "source": [
    "auc = churn_eval.evaluate(prediction)\n",
    "print (round(auc,2))"
   ]
  },
  {
   "cell_type": "markdown",
   "metadata": {},
   "source": [
    "<a name = 'NewPred' />New Predictions"
   ]
  },
  {
   "cell_type": "code",
   "execution_count": 25,
   "metadata": {},
   "outputs": [],
   "source": [
    "new_customers = spark.read.csv('new_customers.csv',inferSchema=True,\n",
    "                              header=True)\n",
    "\n",
    "final_results = model.transform(new_customers)"
   ]
  },
  {
   "cell_type": "code",
   "execution_count": 26,
   "metadata": {},
   "outputs": [
    {
     "name": "stdout",
     "output_type": "stream",
     "text": [
      "+--------------+----------+\n",
      "|         Names|prediction|\n",
      "+--------------+----------+\n",
      "| Andrew Mccall|       0.0|\n",
      "|Michele Wright|       1.0|\n",
      "|  Jeremy Chang|       1.0|\n",
      "|Megan Ferguson|       1.0|\n",
      "|  Taylor Young|       0.0|\n",
      "| Jessica Drake|       1.0|\n",
      "+--------------+----------+\n",
      "\n"
     ]
    }
   ],
   "source": [
    "final_results.select('Names','prediction').show()"
   ]
  },
  {
   "cell_type": "code",
   "execution_count": null,
   "metadata": {},
   "outputs": [],
   "source": []
  }
 ],
 "metadata": {
  "anaconda-cloud": {},
  "kernelspec": {
   "display_name": "Python 3",
   "language": "python",
   "name": "python3"
  },
  "language_info": {
   "codemirror_mode": {
    "name": "ipython",
    "version": 3
   },
   "file_extension": ".py",
   "mimetype": "text/x-python",
   "name": "python",
   "nbconvert_exporter": "python",
   "pygments_lexer": "ipython3",
   "version": "3.6.2"
  }
 },
 "nbformat": 4,
 "nbformat_minor": 1
}
